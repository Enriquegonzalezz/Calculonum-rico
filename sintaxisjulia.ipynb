{
 "cells": [
  {
   "cell_type": "markdown",
   "metadata": {},
   "source": [
    "Julia es un lenguaje que se parece a python en su sintaxis pero corre como C.\n",
    "\n",
    " aqui vemos que julia maneja tipos de variables parecido a python no obstante también podemos ver con la funcion typeof el tipo de variable que tomamos si es entero o string o/u otro\n",
    " \n",
    "  algo bastante divertido es que podemos utilizar emojis con las teclas \\: y buscar en ingles en emoji que queramos, que podemos programar en emojis? si si podemos, seria algo diferente \n"
   ]
  },
  {
   "cell_type": "code",
   "execution_count": null,
   "metadata": {},
   "outputs": [],
   "source": [
    "#SINTAXIS BASICA DE JULIA \n",
    "#VARIABLES\n",
    "\n",
    "varia = 42.00\n",
    "typeof(varia)\n",
    "println(typeof(varia))\n",
    "🕺= \"1 \"\n",
    "🥎 = \"PELOTITA\"\n",
    "emoji = 🕺* 🥎 \n",
    "println(emoji)\n"
   ]
  },
  {
   "cell_type": "markdown",
   "metadata": {},
   "source": [
    "Ahora veamos acerca de los operadores aritmeticos "
   ]
  },
  {
   "cell_type": "code",
   "execution_count": null,
   "metadata": {},
   "outputs": [],
   "source": [
    "obj1 = 50\n",
    "obj2 = 30\n",
    "\n",
    "#hagamos las posibles\n",
    "\n",
    "rsuma = obj1 + obj2  # + para sumar\n",
    "rmulti = obj1 * obj2 # * para multiplicar, tambien se utiliza para concatenar o unir textos\n",
    "restai = obj1 - obj2 # - para restar\n",
    "rpote = obj1^obj2 # ^ para potenciar\n",
    "rdivi = obj1/obj2 # / para division \n",
    "rmodu = obj1%obj2 # % para el resto de division\n",
    "\n",
    "println(rsuma)\n",
    "println(rmulti)\n",
    "println(restai)\n",
    "println(rpote)\n",
    "println(rdivi)\n",
    "println(rmodu)"
   ]
  },
  {
   "cell_type": "markdown",
   "metadata": {},
   "source": [
    "Tambien tenemos signos como ++ y -- que indican aumento o decremento de lo que hacemos en una variable, las veremos en ejercicios mas adelantes\n",
    "\n",
    "Por ahora veamos las estructuras de control, como los condicionales\n",
    "\n",
    "\n"
   ]
  },
  {
   "cell_type": "code",
   "execution_count": null,
   "metadata": {},
   "outputs": [],
   "source": [
    "x = -1\n",
    "if x > 0\n",
    "    signo = \"positivo\"\n",
    "elseif x < 0\n",
    "    signo = \"negativo\"\n",
    "else\n",
    "    signo = \"nulo\"\n",
    "end\n",
    "\n",
    "println(signo)\n",
    "\n",
    "# tambien tenemos esta maanera igual al if = condición ? bloque_true : bloque_false\n",
    "x > 0 ? signo = \"positivo\" : signo = \"negativo\"\n",
    "println(signo)  # Imprimirá \"negativo\"\n"
   ]
  },
  {
   "cell_type": "markdown",
   "metadata": {},
   "source": [
    "En este codigo vemos dos maneras de efectuar el condicional, la primera parecida al if/elif/else de python pero julia, if que me verifica si mi condicon es cierta o falsa y elseif se hace si mi primera condicion no da verdadero, else si ninguna fue verdadera, por otro lado tenemos otra manera que es la forma en que hicimos la segunda parte preguntamos una condicion y que sucedera si es cierta y que sucedera si es falsa, ambas estructuras llegaran al mismo objetivo.\n",
    "\n",
    "\n",
    "\n",
    "\n",
    "\n",
    "\n",
    "Veamos entonces los bucles en julia\n",
    "\n",
    "\n",
    "\n"
   ]
  },
  {
   "cell_type": "code",
   "execution_count": 3,
   "metadata": {},
   "outputs": [
    {
     "name": "stdout",
     "output_type": "stream",
     "text": [
      "El valor de i es: 5\n",
      "El valor de i es: 4\n",
      "El valor de i es: 3\n",
      "El valor de i es: 2\n",
      "El valor de i es: 1\n",
      "vamos por el valor 9\n",
      "vamos por el valor 10\n",
      "vamos por el valor 11\n",
      "vamos por el valor 12\n"
     ]
    }
   ],
   "source": [
    "for i in 5:-1:1\n",
    "    println(\"El valor de i es: $i\")\n",
    "end\n",
    "\n",
    "for j in 9:12\n",
    "    println(\"vamos por el valor $j\")\n",
    "end"
   ]
  },
  {
   "cell_type": "markdown",
   "metadata": {},
   "source": [
    "en este ciclo for vemos un cambio en el como itera las posiciones, en julia para expresar un rango decimos el limite incial: en cuantos saltos: limitefinal. en ete ejemplo vemos que ira del 5 al 1 en un decremento de -1 es decir recorre desde 5 al 1 todos los numeros\n",
    "\n",
    "\n",
    "En el caso de cuando son solo 2 numeros en el rango pues seria limite inicial: limite final en un incremento de 1 por defecto, tenemos tambien una palabra especial \"end\" que decreta el final del ciclo para que no siga iterando despues de ciertas instrucciones\n",
    "\n",
    "Veamos acerca del while\n",
    "\n",
    "\n",
    "\n",
    "\n"
   ]
  },
  {
   "cell_type": "code",
   "execution_count": 5,
   "metadata": {},
   "outputs": [
    {
     "name": "stdout",
     "output_type": "stream",
     "text": [
      "El valor de i es: 1\n",
      "El valor de i es: 2\n",
      "El valor de i es: 3\n",
      "El valor de i es: 4\n",
      "El valor de i es: 5\n"
     ]
    }
   ],
   "source": [
    "i = 1\n",
    "while i <= 5\n",
    "    println(\"El valor de i es: $i\")\n",
    "    i  += 1 # Incremento\n",
    "end\n",
    "\n",
    "i = 5\n",
    "while i >= 1\n",
    "    println(\"El valor de i es: $i\")\n",
    "    i -= 1  # Decremento\n",
    "end\n",
    "\n",
    "#esa seria toda la sintaxis basica\n"
   ]
  },
  {
   "cell_type": "markdown",
   "metadata": {},
   "source": [
    "en el ciclo while a diferencia del for necesitamos tener la variable ya definida antes para poder iterarla estas instrucciones son las misma que la del for y podemos ver que ambos bucles sirven perfectamente."
   ]
  }
 ],
 "metadata": {
  "kernelspec": {
   "display_name": "Julia 1.10.3",
   "language": "julia",
   "name": "julia-1.10"
  },
  "language_info": {
   "file_extension": ".jl",
   "mimetype": "application/julia",
   "name": "julia",
   "version": "1.10.3"
  }
 },
 "nbformat": 4,
 "nbformat_minor": 2
}
