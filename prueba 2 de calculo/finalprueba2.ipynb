{
 "cells": [
  {
   "cell_type": "markdown",
   "metadata": {},
   "source": [
    "Prueba 2 31456812 ENRIQUE GONZALEZ"
   ]
  },
  {
   "cell_type": "code",
   "execution_count": 10,
   "metadata": {},
   "outputs": [
    {
     "ename": "Base.Meta.ParseError",
     "evalue": "ParseError:\n# Error @ c:\\Users\\guzen\\OneDrive\\Desktop\\prueba 2 de calculo numerico\\finalprueba2.ipynb:25:21\n#agarro la primera columna y la temperaturas\r\n#                   ┌\ndias = datos[:, 1] :\r\n\r\n┘ ── line break after `:` in range expression",
     "output_type": "error",
     "traceback": [
      "ParseError:\n",
      "# Error @ c:\\Users\\guzen\\OneDrive\\Desktop\\prueba 2 de calculo numerico\\finalprueba2.ipynb:25:21\n",
      "#agarro la primera columna y la temperaturas\r\n",
      "#                   ┌\n",
      "dias = datos[:, 1] :\r\n",
      "\r\n",
      "┘ ── line break after `:` in range expression\n",
      "\n",
      "Stacktrace:\n",
      " [1] top-level scope\n",
      "   @ c:\\Users\\guzen\\OneDrive\\Desktop\\prueba 2 de calculo numerico\\finalprueba2.ipynb:25"
     ]
    }
   ],
   "source": [
    "\n",
    "using Polynomials\n",
    "using Plots\n",
    "using CSV\n",
    "using DataFrames\n",
    "using Statistics\n",
    "using Interpolations\n",
    "using SymPy\n",
    "using PyCall\n",
    "\n",
    "\n",
    "function obtenerdatos(datos)\n",
    "    promedios = []\n",
    "    for fila in eachrow(datos)\n",
    "        promedio = mean(fila[2:end])\n",
    "        push!(promedios, promedio)\n",
    "    end\n",
    "    return promedios\n",
    "end\n",
    "\n",
    "#leo el csv\n",
    "datos = CSV.read(\"datos.csv\", DataFrame, header=0)\n",
    "\n",
    "#agarro la primera columna y la temperaturas\n",
    "dias = datos[:, 1] :\n",
    "\n",
    "temperaturas = obtenerdatos(datos)"
   ]
  },
  {
   "cell_type": "markdown",
   "metadata": {},
   "source": [
    "INTERPOLACION DE TAYLOR\n",
    "\n",
    "\n",
    "En este problema se suponen conocidos los valores de la funci´on f y sus\n",
    "derivadas sucesivas hasta el orden n en el punto x0 y se trata de hallar un\n",
    "polinomio Pn(x) de grado menor o igual que n tal que:\n",
    "\n",
    "![Screenshot (57).png](<attachment:Screenshot (57).png>)\n",
    "\n",
    "Bajo ciertas condiciones, este polinomio existe y se conoce como el\n",
    "polinomio de Taylor de f de grado menor o igual que n en x0."
   ]
  },
  {
   "cell_type": "code",
   "execution_count": 11,
   "metadata": {},
   "outputs": [
    {
     "ename": "UndefVarError",
     "evalue": "UndefVarError: `dias` not defined",
     "output_type": "error",
     "traceback": [
      "UndefVarError: `dias` not defined\n",
      "\n",
      "Stacktrace:\n",
      " [1] top-level scope\n",
      "   @ c:\\Users\\guzen\\OneDrive\\Desktop\\prueba 2 de calculo numerico\\finalprueba2.ipynb:2"
     ]
    }
   ],
   "source": [
    "#busco primero la funcion Interpolada\n",
    "funcion = LinearInterpolation(dias, temperaturas)\n",
    "x = symbols(\"x\")\n",
    "#hice mi variable simbolica \n",
    "\n",
    "funcionaderivar = 0\n",
    "for dia in dias\n",
    "    terminos = funcion[dia]\n",
    "    for numeroi in dias     \n",
    "        if numeroi != dia\n",
    "            numerador = (x - numeroi)\n",
    "            denominador = (dia- numeroi)  \n",
    "            terminos  *= numerador / denominador #consigo los terminos a acumular en mi funcion \n",
    "        end\n",
    "    end\n",
    "    funcionaderivar += terminos \n",
    "end\n",
    "\n",
    "#declaro datos que necesito para comenzar el polinomio \n",
    "punto = 7; grado_taylor = 7;   \n",
    "\n",
    "polinomio_taylor = 0\n",
    "for k in 0:8\n",
    "    derivada_k = diff(funcionaderivar, x, k)\n",
    "    derivada_punto = subs(derivada_k, x, punto)\n",
    "    termino_k = (derivada_punto/factorial(k)) * (x - punto)^k\n",
    "    polinomio_taylor += termino_k\n",
    "end\n",
    "\n",
    "polimiotaylorfx = lambdify(polinomio_taylor, [x]) #me hace la funcion en base a x\n",
    "\n",
    "x = range(minimum(dias), maximum(dias), length=50) ; y = polimiotaylorfx.(x) #saco los valores \n",
    "\n",
    "#grafico\n",
    "scatter(dias, temperaturas, label=\"Datos Originales\")\n",
    "plot!(dias, temperaturas, label=\"Función Interpolada\")\n",
    "plot!(x, y, label=\"Polinomio de Taylor\")\n"
   ]
  },
  {
   "cell_type": "markdown",
   "metadata": {},
   "source": [
    "INTERPOLACION DE LAGRANGE \n",
    "\n",
    "La interpolación de Lagrange es un método numérico utilizado para aproximar funciones mediante un polinomio que pasa por un conjunto de puntos conocidos. Este polinomio es una combinación lineal de polinomios base de Lagrange, cada uno asociado a un punto conocido.\n",
    "\n",
    "![Screenshot (58).png](<attachment:Screenshot (58).png>)"
   ]
  },
  {
   "cell_type": "code",
   "execution_count": 12,
   "metadata": {},
   "outputs": [
    {
     "ename": "UndefVarError",
     "evalue": "UndefVarError: `dias` not defined",
     "output_type": "error",
     "traceback": [
      "UndefVarError: `dias` not defined\n",
      "\n",
      "Stacktrace:\n",
      " [1] top-level scope\n",
      "   @ c:\\Users\\guzen\\OneDrive\\Desktop\\prueba 2 de calculo numerico\\finalprueba2.ipynb:24"
     ]
    }
   ],
   "source": [
    "function lagrange_polynomial(xi, fi)\n",
    "    n = length(xi)\n",
    "    x = Polynomial([0, 1]) \n",
    "    polinomio = Polynomial([0])\n",
    "    \n",
    "    for i in 1:n\n",
    "        numerador = Polynomial([1])\n",
    "        denominador = 1\n",
    "        for j in 1:n\n",
    "            if j != i\n",
    "                numerador *= x - xi[j]\n",
    "                denominador *= xi[i] - xi[j]\n",
    "            end\n",
    "        end\n",
    "        terminoLi = numerador / denominador\n",
    "        polinomio += terminoLi * fi[i]\n",
    "    end\n",
    "    \n",
    "    return polinomio\n",
    "end\n",
    "\n",
    "#saco el polinomio para despues evaluarlo\n",
    "\n",
    "p_lagrange = lagrange_polynomial(dias, temperaturas)\n",
    "\n",
    "x = range(minimum(dias), maximum(dias), length=50)\n",
    "y = [p_lagrange(v) for v in x]\n",
    "\n",
    "scatter(dias, temperaturas, label=\"Datos originales\", color=:yellow)\n",
    "plot!(dias, temperaturas, label = \" union de los Puntos\")\n",
    "plot!(x, y, label=\"Interpolación de Lagrange\", color=:purple)\n",
    "\n",
    "\n",
    "\n"
   ]
  },
  {
   "cell_type": "markdown",
   "metadata": {},
   "source": [
    "INTERPOLACIÓN DE HERMITE \n",
    "\n",
    "La interpolación de Hermite es un método de análisis numérico que se utiliza para construir un polinomio que no solo pasa por un conjunto de puntos dados, sino que también coincide con las derivadas conocidas de una función en esos puntos. A diferencia de la interpolación de Lagrange, que solo considera los valores de la función, la interpolación de Hermite también toma en cuenta las derivadas, lo que resulta en un ajuste más preciso y suave de la curva interpolada.\n",
    "\n",
    "![Screenshot (59).png](<attachment:Screenshot (59).png>)\n",
    "\n",
    "\n"
   ]
  },
  {
   "cell_type": "code",
   "execution_count": 13,
   "metadata": {},
   "outputs": [
    {
     "ename": "UndefVarError",
     "evalue": "UndefVarError: `dias` not defined",
     "output_type": "error",
     "traceback": [
      "UndefVarError: `dias` not defined\n",
      "\n",
      "Stacktrace:\n",
      " [1] top-level scope\n",
      "   @ c:\\Users\\guzen\\OneDrive\\Desktop\\prueba 2 de calculo numerico\\finalprueba2.ipynb:14"
     ]
    }
   ],
   "source": [
    "using Plots\n",
    "using Interpolations\n",
    "\n",
    "function calcular_derivadas(x, y)\n",
    "    n = length(x)\n",
    "    dy = similar(y) #me da un arreglo del tamaaño de y para tomar las derivadas en cada punto\n",
    "    for i in 1:n-1\n",
    "        dy[i] = (y[i+1] - y[i]) / (x[i+1] - x[i]) #aqui se hace la \"diferencia de derivadas centradas finitas\"\n",
    "    end\n",
    "    dy[n] = dy[n-1]\n",
    "    return dy\n",
    "end\n",
    "\n",
    "df = calcular_derivadas(dias, temperaturas)\n",
    "\n",
    "function interpolaciondehermite(x, y, dy, xnuevo)\n",
    "    iterados = searchsortedfirst(x, xnuevo) #me busca cuando coincidan \n",
    "    iterados = max(1, min(iterados, length(x)-1))\n",
    "    h = x[iterados + 1] - x[iterados]\n",
    "    t = (xnuevo - x[iterados]) / h\n",
    "    t2 = t^2\n",
    "    t3 = t^3\n",
    "\n",
    "    a0 = y[iterados]\n",
    "    a1 = dy[iterados]\n",
    "    a2 = 3 * (y[iterados+1] - y[iterados]) / h^2 - 2 * dy[iterados] / h - dy[iterados+1] / h\n",
    "    a3 = 2 * (y[iterados] - y[iterados+1]) / h^3 + (dy[iterados] + dy[iterados+1]) / h^2\n",
    "\n",
    "    return a0 + a1 * t + a2 * t2 + a3 * t3\n",
    "end\n",
    "\n",
    "x = range(minimum(dias), maximum(dias), length=8)\n",
    "y = [interpolaciondehermite(dias, temperaturas, df, x) for x in x]\n",
    "\n",
    "\n",
    "diaprediccion = 8\n",
    "predictempertura = [interpolaciondehermite(dias, temperaturas, df, diaprediccion)]\n",
    "println(\"la prediccion para ese dia sobre la temperatura de ese dia: \",predictempertura,\" grados celsius\")\n",
    "\n",
    "\n",
    "scatter(dias,temperaturas, label = \"temperaturas\")\n",
    "plot!(dias, temperaturas, label=\"union de los puntos\")\n",
    "plot!(x, y, label=\"interpolacion de hermite\")\n"
   ]
  },
  {
   "cell_type": "markdown",
   "metadata": {},
   "source": [
    "INTERPOLACION POLINOMICA A TROZOS\n",
    "\n",
    "es una tecnica de analisis numerico para aproximar una funcion mediante polinomios de menor grado en subintervalos de los datos\n",
    "![Screenshot (60).png](<attachment:Screenshot (60).png>)"
   ]
  },
  {
   "cell_type": "code",
   "execution_count": 14,
   "metadata": {},
   "outputs": [
    {
     "ename": "UndefVarError",
     "evalue": "UndefVarError: `dias` not defined",
     "output_type": "error",
     "traceback": [
      "UndefVarError: `dias` not defined\n",
      "\n",
      "Stacktrace:\n",
      " [1] top-level scope\n",
      "   @ c:\\Users\\guzen\\OneDrive\\Desktop\\prueba 2 de calculo numerico\\finalprueba2.ipynb:16"
     ]
    }
   ],
   "source": [
    "function interpolacionPolinomialatrozos(dias, temperaturas, x)\n",
    "    iterados = searchsortedfirst(dias, x)\n",
    "    if iterados == 1\n",
    "        return temperaturas[1]\n",
    "    elseif iterados > length(dias)\n",
    "        return temperaturas[end]\n",
    "    else\n",
    "        x1, x2 = dias[iterados-1], dias[iterados]\n",
    "        y1, y2 = temperaturas[iterados-1], temperaturas[iterados]\n",
    "        return y1 + (x - x1) * (y2 - y1) / (x2 - x1)\n",
    "    end\n",
    "end\n",
    "\n",
    "\n",
    "\n",
    "interdias = range(dias[1], stop=dias[6], length=8)\n",
    "tempinters = [interpolacion_lineal_trozos(dias, temperaturas, x) for x in interdias]\n",
    "\n",
    "scatter(dias, temperaturas)\n",
    "plot!(interdias, tempinters, label = \" interpolacion polinomica\", color =:black)\n",
    "plot!(dias, temperaturas, color =:blue, label = \"union\")"
   ]
  }
 ],
 "metadata": {
  "kernelspec": {
   "display_name": "Julia 1.10.3",
   "language": "julia",
   "name": "julia-1.10"
  },
  "language_info": {
   "file_extension": ".jl",
   "mimetype": "application/julia",
   "name": "julia",
   "version": "1.10.3"
  }
 },
 "nbformat": 4,
 "nbformat_minor": 2
}
